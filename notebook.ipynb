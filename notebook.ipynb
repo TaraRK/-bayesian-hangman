{
 "cells": [
  {
   "cell_type": "code",
   "execution_count": 1,
   "metadata": {},
   "outputs": [],
   "source": [
    "from hangman import hangman, get_dictionary\n",
    "import wordfreq\n",
    "import json"
   ]
  },
  {
   "cell_type": "code",
   "execution_count": 2,
   "metadata": {},
   "outputs": [],
   "source": [
    "from decimal import Decimal\n",
    "\n",
    "# Makes the dictionary with the word frequencies\n",
    "big_dictionary = get_dictionary(\"words.txt\")\n",
    "\n",
    "# Convert to a dictionary with higher precision\n",
    "freq_dict = {}\n",
    "for word in big_dictionary:\n",
    "    weight = Decimal(wordfreq.word_frequency(word, \"en\", wordlist='small', minimum=0.0))\n",
    "    if weight > 0.0 and len(word) > 1:\n",
    "        freq_dict[word] = float(weight)  # Store as float to ensure JSON compatibility\n",
    "\n",
    "# Write it to a JSON file with high precision\n",
    "with open('word_freq.json', 'w') as f:\n",
    "    json.dump(freq_dict, f, indent=2)\n"
   ]
  },
  {
   "cell_type": "code",
   "execution_count": 10,
   "metadata": {},
   "outputs": [],
   "source": [
    "#get the letter frequencies from freq_dict \n",
    "\n",
    "letter_freq = {}\n",
    "for word in freq_dict:\n",
    "    for letter in word:\n",
    "        if letter in letter_freq:\n",
    "            letter_freq[letter] += freq_dict[word]\n",
    "        else:\n",
    "            letter_freq[letter] = freq_dict[word]\n",
    "            \n",
    "#normalize it \n",
    "total = sum(letter_freq.values())\n",
    "for letter in letter_freq:\n",
    "    letter_freq[letter] /= total\n",
    "    \n",
    "# Write it to a JSON file with high precision\n",
    "with open('letter_freq.json', 'w') as f:\n",
    "    json.dump(letter_freq, f, indent=2)"
   ]
  },
  {
   "cell_type": "code",
   "execution_count": null,
   "metadata": {},
   "outputs": [],
   "source": []
  }
 ],
 "metadata": {
  "kernelspec": {
   "display_name": "Python 3",
   "language": "python",
   "name": "python3"
  },
  "language_info": {
   "codemirror_mode": {
    "name": "ipython",
    "version": 3
   },
   "file_extension": ".py",
   "mimetype": "text/x-python",
   "name": "python",
   "nbconvert_exporter": "python",
   "pygments_lexer": "ipython3",
   "version": "3.11.1"
  }
 },
 "nbformat": 4,
 "nbformat_minor": 2
}
